{
 "cells": [
  {
   "cell_type": "code",
   "execution_count": 13,
   "id": "45bf3be1",
   "metadata": {},
   "outputs": [],
   "source": [
    "from langchain_community.document_loaders import WebBaseLoader, UnstructuredURLLoader, SeleniumURLLoader\n",
    "import json"
   ]
  },
  {
   "cell_type": "code",
   "execution_count": 2,
   "id": "a656516f",
   "metadata": {},
   "outputs": [],
   "source": [
    "scrape_url = \"https://www.fh-swf.de/de/studienangebot/studiengaenge/index.php\""
   ]
  },
  {
   "cell_type": "code",
   "execution_count": 3,
   "id": "8607e1e4",
   "metadata": {},
   "outputs": [
    {
     "data": {
      "text/plain": [
       "9770"
      ]
     },
     "execution_count": 3,
     "metadata": {},
     "output_type": "execute_result"
    }
   ],
   "source": [
    "loader = WebBaseLoader(scrape_url)\n",
    "docs = loader.load()\n",
    "len(docs[0].page_content)"
   ]
  },
  {
   "cell_type": "code",
   "execution_count": 4,
   "id": "7f99eb9c",
   "metadata": {},
   "outputs": [],
   "source": [
    "loader = UnstructuredURLLoader(scrape_url)\n",
    "#docs = loader.load()\n",
    "#docs"
   ]
  },
  {
   "cell_type": "code",
   "execution_count": 10,
   "id": "7e86cb94",
   "metadata": {},
   "outputs": [
    {
     "data": {
      "text/plain": [
       "[Document(metadata={'source': 'https://www.fh-swf.de/de/studienangebot/studiengaenge/index.php', 'title': 'Unsere Studiengänge: Das Studienangebot der FH Südwestfalen', 'description': 'Übersicht unserer Bachelor- und Master-Studiengäge - alle Standorte, Studienmodelle, Fachgebiete usw.', 'language': 'de-DE'}, page_content=\"Unsere Studiengänge\\n\\nStudienangebot\\n\\nStudiengänge\\n\\nFinden Sie Ihren Studiengang\\n\\nFachgebiet\\n\\nAbschluss\\n\\nStandort\\n\\nStudienmodell\\n\\nStudienvoraussetzung\\n\\nUnterrichtssprache\\n\\nStudienbeginn\\n\\n69 Studiengänge\\n\\nSoest|SommersemesterWintersemester\\n\\nAdvanced Engineering and Engineering Management M.Sc.\\n\\nThis unique international Master's course combines managerial and business content with engineering subjects related to current research, enabling you to master all challenges at the intersection of technology and business.\\n\\nMehr erfahren\\n\\nSoest|Wintersemester\\n\\nAgrarwirtschaft B.Sc.\\n\\nErhalten Sie landwirtschaftliches Basiswissen und breit angelegte tiefergehende Kenntnisse, um in der weltweit wichtigen Wachstumsbranche Agrarwirtschaft Fuß zu fassen.\\n\\nMehr erfahren\\n\\nSoest|SommersemesterWintersemester\\n\\nAgrarwirtschaft M.Sc.\\n\\nSie möchten sich den Herausforderungen der modernen Landwirtschaft stellen? Dann qualifizieren Sie sich für Führungsaufgaben in landwirtschaftlichen Betrieben oder in nationalen und internationalen Unternehmen.\\n\\nMehr erfahren\\n\\nMeschede|Wintersemester\\n\\nAngewandte Betriebswirtschaftslehre B.A. (Vollzeit / Teilzeit)\\n\\nSie interessieren sich für wirtschaftlichen Themen und analytisches Denken? Erlernen Sie in diesem praxisorientierten Studiengang betriebswirtschaftliche Zusammenhänge, deren Analyse und Bewertung.\\n\\nMehr erfahren\\n\\nIserlohn|Wintersemester\\n\\nAngewandte Biologie B.Sc.\\n\\nSie haben eine Vorliebe für biologische Analyse- und Arbeitsmethoden? Dann widmen Sie sich mit diesem anwendungsbezogenen Studium der Zukunftswissenschaft Biologie.\\n\\nMehr erfahren\\n\\nIserlohn|Wintersemester\\n\\nAngewandte Informatik B.Sc. (berufsbegleitendes Verbundstudium)\\n\\nSie möchten die Digitalisierung von morgen mitgestalten? Dann ist dieses flexible Grundlagenstudium mit den Studienrichtungen Systemintegration, Anwendungsentwicklung und Künstliche Intelligenz für Sie genau richtig.\\n\\nMehr erfahren\\n\\nIserlohn|SommersemesterWintersemester\\n\\nAngewandte Informatik M.Sc. (berufsbegleitendes Verbundstudium)\\n\\nDieses vertiefende Informatik-Studium orientiert sich an den Haupteinsatzfeldern und den Entwicklungstrends der Informatik. Hier lernen Sie, moderne IT-Lösungen für Herausforderungen in Industrie und Wissenschaft zu entwickeln.\\n\\nMehr erfahren\\n\\nIserlohn|Wintersemester\\n\\nAngewandte Künstliche Intelligenz M.Sc. (berufsbegleitendes Verbundstudium)\\n\\nSie möchten fundierte KI-Kompetenzen erwerben und sich zum/zur KI-Expert*in weiterqualifizieren? Das ist mit diesem berufsbegleitenden Studium ganz flexibel möglich.\\n\\nMehr erfahren\\n\\nIserlohn|Wintersemester\\n\\nAutomotive B.Eng.\\n\\nWerden Sie mit der anwendungsbezogenen, technischen Ausbildung in Bereichen wie Autonomes Fahren, Connected Cars und E-Antriebe zum*zur Schlüsselakteur*in der Mobilitätswende.\\n\\nMehr erfahren\\n\\nHagen|Wintersemester\\n\\nBetriebswirtschaftslehre B.Sc.\\n\\nDieser praxisorientierte Studiengang macht Sie zum betriebswirtschaftlichen Allrounder. Qualifizieren Sie sich für kaufmännisch geprägte Berufsfelder in der Wirtschaft.\\n\\nMehr erfahren\\n\\nHagen|Wintersemester\\n\\nBetriebswirtschaftslehre B.Sc. (berufsbegleitendes Verbundstudium)\\n\\nBetriebswirtschaftliche Expertise nebenberuflich erwerben! Erfolgreiche Weiterqualifizierung neben Beruf oder Ausbildung für einen Karriereboost.\\n\\nMehr erfahren\\n\\nSoest|Wintersemester\\n\\nBusiness Administration with Informatics B.A.\\n\\nGain versatile international experience by studying this course, which focuses on the two key areas of business administration and information technology.\\n\\nMehr erfahren\\n\\nSoest|Wintersemester\\n\\nData Science für Agrarwirtschaft B.Sc.\\n\\nDieser einzigartige und besonders innovative Studiengang schult Ihre Big-Data-Kompetenz und befähigt Sie so, den biologischen und technischen Fortschritt in der Tier- und Pflanzenzüchtung zu beschleunigen.\\n\\nMehr erfahren\\n\\nMeschede|Wintersemester\\n\\nData Science M.Sc. (berufsbegleitend)\\n\\nErlernen Sie modernste Methoden der Künstlichen Intelligenz und des Maschinellen Lernens, um als Data Scientist in praktisch allen Branchen durch das Analysieren größter Datenmengen Wissen zu generieren.\\n\\nMehr erfahren\\n\\nSoest|Wintersemester\\n\\nDesign- und Projektmanagement B.Sc.\\n\\nKreativ denken, strategisch managen! Mit der einzigartigen Verbindung von Design, Technik und Wirtschaft lernen Sie, den Produktentwicklungsprozess von der Idee bis zum fertigen Produkt zu begleiten.\\n\\nMehr erfahren\\n\\nSoest|Wintersemester\\n\\nDigitale Technologien B.Eng. (Vollzeit / Dual) (künftig: Angewandte Informatik)\\n\\nSie interessieren sich für Maschinenbau, Elektrotechnik und Informatik und möchten digitale Technologien mitgestalten? Herzlich Willkommen in diesem interdisziplinären Bachelor-Studium.\\n\\nMehr erfahren\\n\\nSoest|SommersemesterWintersemester\\n\\nDigitale Technologien M.Eng.\\n\\nDieses interdisziplinäre Master-Studium bietet Ihnen das Rüstzeug für eine erfolgreiche Karriere in der digitalen Zukunft. Lernen Sie, Digitalisierungstechnologien adäquat einzusetzen und die Möglichkeiten und Grenzen zu verstehen.\\n\\nMehr erfahren\\n\\nHagen|Wintersemester\\n\\nElektrotechnik B.Eng. (berufsbegleitendes Verbundstudium)\\n\\nMit dem breiten Themenspektrum von Regelungstechnik über Digitale Systeme bis zu Leistungselektronik bereitet dieser berufsbegleitende Studiengang Sie für eine erfolgreiche Karriere im Bereich der Elektrotechnik vor.\\n\\nMehr erfahren\\n\\nAuslaufende Studiengänge\\n\\nSie haben da mal von einem Studiengang gehört, finden aber nicht, was Sie suchen? Die Fachhochschule Südwestfalen ist fortwährend bestrebt, ihr Profil und Studienangebot an die moderne Berufswirklichkeit anzupassen. Klicken Sie hier, um auslaufende Studiengänge mit ihren Nachfolgern oder Alternativen anzuzeigen.\\n\\nWeitere Infos\\n\\nStudienmodelle\\n\\nFachgebiete\\n\\nFristen & Termine\\n\\nEinschreibung & Bewerbung\\n\\nNoch Fragen? Wir sind für Sie da!\\n\\nAllgemeine Studienberatung\\n\\nAllgemeine Studienberatung\\n\\nAllgemeine Studienberatung\\n\\nTelefon:\\n\\n02371 / 566-1538\\n\\nE-Mail:\\n\\nstudienberatung@fh-swf.de\\n\\nHomepage:\\n\\nLink\\n\\nMo., Di., Do., Fr.\\n\\n9:00 - 16:00 Uhr\\n\\nMi.\\n\\n13:00 - 17:30 Uhr\\n\\nAllgemeine Studienberatung\\n\\nPostanschrift\\n\\nPostfach 2061 58590 Iserlohn\\n\\nIserlohn\\n\\nStudierenden-Servicebüro\\n\\nStudierenden-Servicebüro\\n\\nHomepage:\\n\\nLink\\n\\nStudierenden-Servicebüro\\n\\nPostanschrift\\n\\nPostfach 2061 58590 Iserlohn\")]"
      ]
     },
     "execution_count": 10,
     "metadata": {},
     "output_type": "execute_result"
    }
   ],
   "source": [
    "loader = SeleniumURLLoader([scrape_url])\n",
    "docs = loader.load()\n",
    "docs"
   ]
  },
  {
   "cell_type": "code",
   "execution_count": null,
   "id": "a23b85d5",
   "metadata": {},
   "outputs": [
    {
     "data": {
      "text/plain": [
       "'https://www.fh-swf.de/de/studienangebot/studiengaenge/index.php'"
      ]
     },
     "execution_count": 18,
     "metadata": {},
     "output_type": "execute_result"
    }
   ],
   "source": [
    "docs[0].model_dump()"
   ]
  }
 ],
 "metadata": {
  "kernelspec": {
   "display_name": ".venv",
   "language": "python",
   "name": "python3"
  },
  "language_info": {
   "codemirror_mode": {
    "name": "ipython",
    "version": 3
   },
   "file_extension": ".py",
   "mimetype": "text/x-python",
   "name": "python",
   "nbconvert_exporter": "python",
   "pygments_lexer": "ipython3",
   "version": "3.13.2"
  }
 },
 "nbformat": 4,
 "nbformat_minor": 5
}
